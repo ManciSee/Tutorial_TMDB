{
 "cells": [
  {
   "cell_type": "markdown",
   "id": "3dbcda06",
   "metadata": {},
   "source": [
    "<center>\n",
    "<img alt=\"Logo\" src=\"./immagini/TMDB_logo.svg\" />\n",
    "   </center>"
   ]
  },
  {
   "cell_type": "markdown",
   "id": "c83a693a",
   "metadata": {},
   "source": [
    "---"
   ]
  },
  {
   "cell_type": "markdown",
   "id": "b640d5aa",
   "metadata": {},
   "source": [
    "# Tutorial su API di TMDB\n",
    "**Nome:** *Sergio*\n",
    "\n",
    "**Cognome:** *Mancini*\n",
    "\n",
    "**Matricola:** *1000022352*\n",
    "\n",
    "**Corso:** *Social Media Data Analysis* \n",
    "\n",
    "**Docente:** *Francesco Ragusa*\n",
    "\n",
    "**Anno Accademico:** *2023/2024*"
   ]
  },
  {
   "cell_type": "markdown",
   "id": "0c46d831",
   "metadata": {},
   "source": [
    "# Sommario\n",
    "1. [Introduzione](#introduzione)"
   ]
  },
  {
   "cell_type": "markdown",
   "id": "4c44fd26",
   "metadata": {},
   "source": [
    "---"
   ]
  },
  {
   "cell_type": "markdown",
   "id": "ecc3ff27",
   "metadata": {},
   "source": [
    "# Introduzione\n",
    "_\"The Movie Database (<a href=\"https://www.themoviedb.org/\">TMDB</a>) is a community built movie and TV database. Every piece of data has been added by our amazing community dating back to 2008. TMDB's strong international focus and breadth of data is largely unmatched and something we're incredibly proud of. Put simply, we live and breathe community and that's precisely what makes us different.\"_\n",
    "\n",
    "Sul sito è possibile trovare una vasta gamma di informazioni relative a ciascun film o serie TV, tra cui:\n",
    "- Titolo\n",
    "- Locandina\n",
    "- Genere, durata e data di uscita\n",
    "- Punteggio utente\n",
    "- Breve descrizione\n",
    "- Regista e informazioni sul cast\n",
    "- Budget e Incasso\n",
    "- Recensione da parte degli utenti\n",
    "- Media (sfondi, poster e video)"
   ]
  },
  {
   "cell_type": "markdown",
   "id": "6ef555e4",
   "metadata": {},
   "source": [
    "## Presentazione sito\n",
    "\n",
    "<center>\n",
    "<img alt=\"Sito\" src=\"./immagini/sito1.png\" />\n",
    "   </center>"
   ]
  },
  {
   "cell_type": "markdown",
   "id": "e31daa85",
   "metadata": {},
   "source": [
    "## Presentazione film\n",
    "<center>\n",
    "<img alt=\"Film\" src=\"./immagini/film1.png\" />\n",
    "   </center>"
   ]
  },
  {
   "cell_type": "markdown",
   "id": "c5b31890",
   "metadata": {},
   "source": [
    "<img alt=\"Film\" src=\"./immagini/film2.png\" />"
   ]
  },
  {
   "cell_type": "markdown",
   "id": "3054b58c",
   "metadata": {},
   "source": [
    "<img alt=\"Film\" src=\"./immagini/film3.png\" />"
   ]
  },
  {
   "cell_type": "markdown",
   "id": "927cc8aa",
   "metadata": {},
   "source": [
    "## Registrazione profilo\n",
    "\n",
    "Registrarsi su TMDB è un processo semplice e veloce. È sufficiente inserire alcune informazioni di base, come un nome utente, una password e un indirizzo email, per creare un account. Questo permette di accedere a molte funzionalità del sito, tra cui la possibilità di scrivere recensioni, aggiungere film alla tua lista dei desideri, seguire altri utenti e molto altro.\n",
    "\n",
    "Inoltre, per poter utilizzare le API è necessario registrarsi anche per ottenere una *API key*. Questa chiave permette di accedere del database e di utilizzarli. TMDB offre diverse opzioni di registrazione, sia per gli utenti standard che per gli sviluppatori interessati a sfruttare le potenzialità delle API.\n",
    "<br>\n",
    "<center>\n",
    "<img alt=\"Registrazione account\" src=\"./immagini/registrazione1.png\" />\n",
    "   </center>"
   ]
  },
  {
   "cell_type": "markdown",
   "id": "ae52f97e",
   "metadata": {},
   "source": [
    "Dopo aver completato il processo di registrazione su TMDB e aver verificato l'indirizzo email, si avrà accesso alla dashboard personale. \n",
    "\n",
    " esplorare statistiche personalizzate che ti forniranno insight interessanti sul tuo comportamento sulla piattaforma. Queste statistiche possono includere il numero di film che hai recensito, i generi che prediligi e altre informazioni pertinenti.\n",
    "\n",
    "La dashboard personale ti darà anche accesso a discussioni coinvolgenti e interattive. Potrai partecipare alle conversazioni sulla piattaforma, condividendo le tue opinioni e le tue prospettive sui film che hai visto. Questo ti permetterà di connetterti con altri appassionati di cinema e di scoprire nuove idee e punti di vista.\n",
    "\n",
    "Inoltre, la tua dashboard sarà il luogo ideale per tenere traccia dei film che desideri vedere in futuro. Potrai creare e gestire una lista dei tuoi film desiderati, garantendoti di non perdere alcuna uscita importante.\n",
    "\n",
    "Infine, avrai accesso a un elenco completo di tutti i film che hai recensito su TMDB, permettendoti di rivedere e ricordare le tue opinioni sui vari titoli.\n",
    "\n",
    "La tua dashboard personale su TMDB è uno strumento potente per arricchire la tua esperienza sul sito, offrendoti il controllo e la personalizzazione per esplorare il mondo del cinema in modo coinvolgente e significativo.\n",
    "\n",
    "<center>\n",
    "<img alt=\"Film\" src=\"./immagini/account1.png\" />\n",
    "   </center>"
   ]
  },
  {
   "cell_type": "code",
   "execution_count": null,
   "id": "01c34f65",
   "metadata": {},
   "outputs": [],
   "source": []
  }
 ],
 "metadata": {
  "kernelspec": {
   "display_name": "Python 3 (ipykernel)",
   "language": "python",
   "name": "python3"
  },
  "language_info": {
   "codemirror_mode": {
    "name": "ipython",
    "version": 3
   },
   "file_extension": ".py",
   "mimetype": "text/x-python",
   "name": "python",
   "nbconvert_exporter": "python",
   "pygments_lexer": "ipython3",
   "version": "3.11.0"
  }
 },
 "nbformat": 4,
 "nbformat_minor": 5
}
