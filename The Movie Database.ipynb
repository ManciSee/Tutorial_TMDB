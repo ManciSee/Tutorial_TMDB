{
 "cells": [
  {
   "cell_type": "markdown",
   "id": "3dbcda06",
   "metadata": {},
   "source": [
    "<center>\n",
    "<img alt=\"Logo\" src=\"TMDB_logo.svg\" />\n",
    "   </center>"
   ]
  },
  {
   "cell_type": "markdown",
   "id": "c83a693a",
   "metadata": {},
   "source": [
    "---"
   ]
  },
  {
   "cell_type": "markdown",
   "id": "b640d5aa",
   "metadata": {},
   "source": [
    "# Tutorial su API di TMDB\n",
    "**Nome:** *Sergio*\n",
    "\n",
    "**Cognome:** *Mancini*\n",
    "\n",
    "**Matricola:** *1000022352*\n",
    "\n",
    "**Corso:** *Social Media Data Analysis* \n",
    "\n",
    "**Docente:** *Francesco Ragusa*\n",
    "\n",
    "**Anno Accademico:** *2023/2024*"
   ]
  },
  {
   "cell_type": "markdown",
   "id": "0c46d831",
   "metadata": {},
   "source": [
    "# Sommario\n",
    "1. [Introduzione](#introduzione)"
   ]
  },
  {
   "cell_type": "markdown",
   "id": "4c44fd26",
   "metadata": {},
   "source": [
    "---"
   ]
  },
  {
   "cell_type": "markdown",
   "id": "ecc3ff27",
   "metadata": {},
   "source": [
    "# Introduzione\n",
    "_\"The Movie Database (<a href=\"https://www.themoviedb.org/\">TMDB</a>) is a community built movie and TV database. Every piece of data has been added by our amazing community dating back to 2008. TMDB's strong international focus and breadth of data is largely unmatched and something we're incredibly proud of. Put simply, we live and breathe community and that's precisely what makes us different.\"_\n",
    "\n",
    "Sul sito è possibile trovare una vasta gamma di informazioni relative a ciascun film o serie TV, tra cui:\n",
    "- Titolo\n",
    "- Locandina\n",
    "- Genere, durata e data di uscita\n",
    "- Punteggio utente\n",
    "- Breve descrizione\n",
    "- Regista e informazioni sul cast\n",
    "- Budget e Incasso\n",
    "- Recensione da parte degli utenti\n",
    "- Media (sfondi, poster e video)\n",
    "\n"
   ]
  },
  {
   "cell_type": "code",
   "execution_count": null,
   "id": "205f8f56",
   "metadata": {},
   "outputs": [],
   "source": []
  }
 ],
 "metadata": {
  "kernelspec": {
   "display_name": "Python 3 (ipykernel)",
   "language": "python",
   "name": "python3"
  },
  "language_info": {
   "codemirror_mode": {
    "name": "ipython",
    "version": 3
   },
   "file_extension": ".py",
   "mimetype": "text/x-python",
   "name": "python",
   "nbconvert_exporter": "python",
   "pygments_lexer": "ipython3",
   "version": "3.11.0"
  }
 },
 "nbformat": 4,
 "nbformat_minor": 5
}
